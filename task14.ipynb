{
  "nbformat": 4,
  "nbformat_minor": 0,
  "metadata": {
    "colab": {
      "provenance": [],
      "mount_file_id": "1pK8YWgTsWQKV_dkM-cet6mcOggo5u8C7",
      "authorship_tag": "ABX9TyMj+Y6H47YGIHo+W3b7gkzi",
      "include_colab_link": true
    },
    "kernelspec": {
      "name": "python3",
      "display_name": "Python 3"
    },
    "language_info": {
      "name": "python"
    }
  },
  "cells": [
    {
      "cell_type": "markdown",
      "metadata": {
        "id": "view-in-github",
        "colab_type": "text"
      },
      "source": [
        "<a href=\"https://colab.research.google.com/github/ESSPRADEEP3000/AI_intership/blob/main/task14.ipynb\" target=\"_parent\"><img src=\"https://colab.research.google.com/assets/colab-badge.svg\" alt=\"Open In Colab\"/></a>"
      ]
    },
    {
      "cell_type": "markdown",
      "source": [],
      "metadata": {
        "id": "nJ4TvT4G2nSB"
      }
    },
    {
      "cell_type": "code",
      "execution_count": 39,
      "metadata": {
        "id": "CC7pvOJWAwAn"
      },
      "outputs": [],
      "source": [
        "#task-14 ->How many programmers paid 5000 to 10000 for their course.\n",
        "import pandas as pd\n",
        "soft_df=pd.read_csv('/content/drive/MyDrive/internship/Studies.csv')\n",
        "pro_df=pd.read_csv('/content/drive/MyDrive/internship/Programmer.csv')\n"
      ]
    },
    {
      "cell_type": "code",
      "source": [
        "#approach-1 -> if programmers paying course fees between 5k and 10k\n",
        "paid_df=soft_df[(soft_df['COURSE_FEE']>=5000) & (soft_df['COURSE_FEE']<=10000)]\n",
        "paid_df\n",
        "print(\"programmers paid 5000 to 1000 for their courses: \",paid_df['COURSE_FEE'].count())"
      ],
      "metadata": {
        "colab": {
          "base_uri": "https://localhost:8080/"
        },
        "id": "ROHGj6W8Gw38",
        "outputId": "410cdb07-3a41-49f0-bf57-4af70cae9418"
      },
      "execution_count": 40,
      "outputs": [
        {
          "output_type": "stream",
          "name": "stdout",
          "text": [
            "programmers paid 5000 to 1000 for their courses:  6\n"
          ]
        }
      ]
    },
    {
      "cell_type": "code",
      "source": [
        "#approach 2 -> if programmers are being paid between 5k and 10k for their courses\n",
        "earn_df=pro_df[(pro_df['SALARY']>=5000)&(pro_df['SALARY']<=10000)]\n",
        "earn_df\n",
        "print(\"programmers being paid 5000 to 1000 for their courses: \",earn_df['SALARY'].count())"
      ],
      "metadata": {
        "colab": {
          "base_uri": "https://localhost:8080/"
        },
        "id": "ak6IzPy6-RQy",
        "outputId": "f7b09597-0da4-47bf-dda7-87c50674bfb9"
      },
      "execution_count": 42,
      "outputs": [
        {
          "output_type": "stream",
          "name": "stdout",
          "text": [
            "programmers being paid 5000 to 1000 for their courses:  0\n"
          ]
        }
      ]
    }
  ]
}