{
  "nbformat": 4,
  "nbformat_minor": 0,
  "metadata": {
    "colab": {
      "provenance": [],
      "mount_file_id": "1pK8YWgTsWQKV_dkM-cet6mcOggo5u8C7",
      "authorship_tag": "ABX9TyOapnn6/9dZDHRenrILkvFL",
      "include_colab_link": true
    },
    "kernelspec": {
      "name": "python3",
      "display_name": "Python 3"
    },
    "language_info": {
      "name": "python"
    }
  },
  "cells": [
    {
      "cell_type": "markdown",
      "metadata": {
        "id": "view-in-github",
        "colab_type": "text"
      },
      "source": [
        "<a href=\"https://colab.research.google.com/github/ESSPRADEEP3000/AI_intership/blob/main/task11.ipynb\" target=\"_parent\"><img src=\"https://colab.research.google.com/assets/colab-badge.svg\" alt=\"Open In Colab\"/></a>"
      ]
    },
    {
      "cell_type": "code",
      "execution_count": 27,
      "metadata": {
        "id": "CC7pvOJWAwAn"
      },
      "outputs": [],
      "source": [
        "#task-11 -> lowest course fee\n",
        "import pandas as pd\n",
        "studies_df=pd.read_csv('/content/drive/MyDrive/internship/Studies.csv')\n"
      ]
    },
    {
      "cell_type": "code",
      "source": [
        "fee=studies_df[\"COURSE FEE\"].min()\n",
        "print(\"lowest course fee is:\",fee)"
      ],
      "metadata": {
        "colab": {
          "base_uri": "https://localhost:8080/"
        },
        "id": "ROHGj6W8Gw38",
        "outputId": "f1962486-6c97-44d4-d661-7fa6a60c7030"
      },
      "execution_count": 28,
      "outputs": [
        {
          "output_type": "stream",
          "name": "stdout",
          "text": [
            "lowest course fee is: 4500\n"
          ]
        }
      ]
    }
  ]
}