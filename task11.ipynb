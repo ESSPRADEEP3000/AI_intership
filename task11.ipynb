{
  "nbformat": 4,
  "nbformat_minor": 0,
  "metadata": {
    "colab": {
      "provenance": [],
      "mount_file_id": "1a-gnj_VbhRFmGPFKSUt0stWzSOqXt5HN",
      "authorship_tag": "ABX9TyOl0uQ/QpMtHVI7uiM22ISh",
      "include_colab_link": true
    },
    "kernelspec": {
      "name": "python3",
      "display_name": "Python 3"
    },
    "language_info": {
      "name": "python"
    }
  },
  "cells": [
    {
      "cell_type": "markdown",
      "metadata": {
        "id": "view-in-github",
        "colab_type": "text"
      },
      "source": [
        "<a href=\"https://colab.research.google.com/github/ESSPRADEEP3000/AI_intership/blob/main/task11.ipynb\" target=\"_parent\"><img src=\"https://colab.research.google.com/assets/colab-badge.svg\" alt=\"Open In Colab\"/></a>"
      ]
    },
    {
      "cell_type": "code",
      "execution_count": 2,
      "metadata": {
        "colab": {
          "base_uri": "https://localhost:8080/"
        },
        "id": "JICJIr7qpsYy",
        "outputId": "9448943c-890e-4df8-93fc-a0477788e7c9"
      },
      "outputs": [
        {
          "output_type": "stream",
          "name": "stdout",
          "text": [
            "lowest course fee is: 4500\n"
          ]
        }
      ],
      "source": [
        "#task-11 -> lowest course fee\n",
        "import pandas as pd\n",
        "studies_df=pd.read_csv('/content/drive/MyDrive/internship/Studies.csv')\n",
        "fee=studies_df[\"COURSE_FEE\"].min()\n",
        "print(\"lowest course fee is:\",fee)"
      ]
    }
  ]
}