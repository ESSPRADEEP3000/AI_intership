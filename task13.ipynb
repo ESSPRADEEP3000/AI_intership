{
  "nbformat": 4,
  "nbformat_minor": 0,
  "metadata": {
    "colab": {
      "provenance": [],
      "mount_file_id": "1pK8YWgTsWQKV_dkM-cet6mcOggo5u8C7",
      "authorship_tag": "ABX9TyOei/7MxhyYy7QhA2HwixE2",
      "include_colab_link": true
    },
    "kernelspec": {
      "name": "python3",
      "display_name": "Python 3"
    },
    "language_info": {
      "name": "python"
    }
  },
  "cells": [
    {
      "cell_type": "markdown",
      "metadata": {
        "id": "view-in-github",
        "colab_type": "text"
      },
      "source": [
        "<a href=\"https://colab.research.google.com/github/ESSPRADEEP3000/AI_intership/blob/main/task13.ipynb\" target=\"_parent\"><img src=\"https://colab.research.google.com/assets/colab-badge.svg\" alt=\"Open In Colab\"/></a>"
      ]
    },
    {
      "cell_type": "code",
      "execution_count": 34,
      "metadata": {
        "id": "CC7pvOJWAwAn"
      },
      "outputs": [],
      "source": [
        "#task-13 -> cost of the costliest software development in Basic.\n",
        "import pandas as pd\n",
        "software_df=pd.read_csv('/content/drive/MyDrive/internship/Software.csv')\n"
      ]
    },
    {
      "cell_type": "code",
      "source": [
        "max_cost_df=software_df[software_df[\"DEVELOPIN\"]==\"BASIC\"][\"DCOST\"].max()\n",
        "print(\"costliest software development in Basic:\",max_cost_df)"
      ],
      "metadata": {
        "colab": {
          "base_uri": "https://localhost:8080/"
        },
        "id": "ROHGj6W8Gw38",
        "outputId": "9f584dbf-25cd-4e92-99d2-e508bc2c2a1b"
      },
      "execution_count": 53,
      "outputs": [
        {
          "output_type": "stream",
          "name": "stdout",
          "text": [
            "costliest software development in Basic: 6000\n"
          ]
        }
      ]
    }
  ]
}