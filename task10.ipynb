{
  "nbformat": 4,
  "nbformat_minor": 0,
  "metadata": {
    "colab": {
      "provenance": [],
      "mount_file_id": "1pK8YWgTsWQKV_dkM-cet6mcOggo5u8C7",
      "authorship_tag": "ABX9TyNHiDb8x6XKCfbNn81Ens59",
      "include_colab_link": true
    },
    "kernelspec": {
      "name": "python3",
      "display_name": "Python 3"
    },
    "language_info": {
      "name": "python"
    }
  },
  "cells": [
    {
      "cell_type": "markdown",
      "metadata": {
        "id": "view-in-github",
        "colab_type": "text"
      },
      "source": [
        "<a href=\"https://colab.research.google.com/github/ESSPRADEEP3000/AI_intership/blob/main/task10.ipynb\" target=\"_parent\"><img src=\"https://colab.research.google.com/assets/colab-badge.svg\" alt=\"Open In Colab\"/></a>"
      ]
    },
    {
      "cell_type": "code",
      "execution_count": 14,
      "metadata": {
        "id": "CC7pvOJWAwAn"
      },
      "outputs": [],
      "source": [
        "#task-10 ->  Names of those who have done the DAP Course\n",
        "import pandas as pd\n",
        "studies_df=pd.read_csv('/content/drive/MyDrive/internship/Studies.csv')\n"
      ]
    },
    {
      "cell_type": "code",
      "source": [
        "courses=studies_df[studies_df[\"COURSE\"]==\"DAP\"]\n",
        "# courses=studies_df[studies_df[\"COURSE\"]==\"DAP\"][\"PNAME\"]\n",
        "list_df=courses[\"PNAME\"]\n",
        "# courses\n",
        "list_df"
      ],
      "metadata": {
        "colab": {
          "base_uri": "https://localhost:8080/"
        },
        "id": "ROHGj6W8Gw38",
        "outputId": "04d1ae17-9692-44c6-88c4-b20d8ffd8a0d"
      },
      "execution_count": 20,
      "outputs": [
        {
          "output_type": "execute_result",
          "data": {
            "text/plain": [
              "5      NELSON\n",
              "11    REVATHI\n",
              "Name: PNAME, dtype: object"
            ]
          },
          "metadata": {},
          "execution_count": 20
        }
      ]
    }
  ]
}