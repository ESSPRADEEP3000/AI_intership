{
  "nbformat": 4,
  "nbformat_minor": 0,
  "metadata": {
    "colab": {
      "provenance": [],
      "mount_file_id": "1pm0XqnQOb_9wB6xlgoXNfn72jZ2U45ZW",
      "authorship_tag": "ABX9TyMrAsGXkKcnOjxnGUM/Lvay",
      "include_colab_link": true
    },
    "kernelspec": {
      "name": "python3",
      "display_name": "Python 3"
    },
    "language_info": {
      "name": "python"
    }
  },
  "cells": [
    {
      "cell_type": "markdown",
      "metadata": {
        "id": "view-in-github",
        "colab_type": "text"
      },
      "source": [
        "<a href=\"https://colab.research.google.com/github/ESSPRADEEP3000/AI_intership/blob/main/task15.ipynb\" target=\"_parent\"><img src=\"https://colab.research.google.com/assets/colab-badge.svg\" alt=\"Open In Colab\"/></a>"
      ]
    },
    {
      "cell_type": "code",
      "source": [
        "#task-15 ->no of programmers know either COBOL or Pascal\n",
        "import pandas as pd\n",
        "pro_df=pd.read_csv(\"/content/drive/MyDrive/internship/Programmer.csv\")"
      ],
      "metadata": {
        "id": "TLxY1giHAafz"
      },
      "execution_count": 4,
      "outputs": []
    },
    {
      "cell_type": "code",
      "source": [
        "copa_df=pro_df[(pro_df['PROF1'].isin(['PASCAL','COBOL'])| pro_df['PROF2'].isin(['PASCAL','COBOL']))].shape[0]\n",
        "copa_df"
      ],
      "metadata": {
        "id": "OrgvYn_5AXS8",
        "colab": {
          "base_uri": "https://localhost:8080/"
        },
        "outputId": "63d96446-95ec-445a-e875-58148e6844d4"
      },
      "execution_count": 29,
      "outputs": [
        {
          "output_type": "execute_result",
          "data": {
            "text/plain": [
              "8"
            ]
          },
          "metadata": {},
          "execution_count": 29
        }
      ]
    }
  ]
}