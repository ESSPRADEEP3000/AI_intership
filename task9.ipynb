{
  "nbformat": 4,
  "nbformat_minor": 0,
  "metadata": {
    "colab": {
      "provenance": [],
      "mount_file_id": "1pK8YWgTsWQKV_dkM-cet6mcOggo5u8C7",
      "authorship_tag": "ABX9TyMTHGHBsY/yOnd3XC/y5Cqt",
      "include_colab_link": true
    },
    "kernelspec": {
      "name": "python3",
      "display_name": "Python 3"
    },
    "language_info": {
      "name": "python"
    }
  },
  "cells": [
    {
      "cell_type": "markdown",
      "metadata": {
        "id": "view-in-github",
        "colab_type": "text"
      },
      "source": [
        "<a href=\"https://colab.research.google.com/github/ESSPRADEEP3000/AI_intership/blob/main/task9.ipynb\" target=\"_parent\"><img src=\"https://colab.research.google.com/assets/colab-badge.svg\" alt=\"Open In Colab\"/></a>"
      ]
    },
    {
      "cell_type": "code",
      "execution_count": 11,
      "metadata": {
        "colab": {
          "base_uri": "https://localhost:8080/"
        },
        "id": "CC7pvOJWAwAn",
        "outputId": "3b128dc0-b614-438b-fd83-26b5328b6f8c"
      },
      "outputs": [
        {
          "output_type": "stream",
          "name": "stdout",
          "text": [
            "3066.65\n"
          ]
        }
      ],
      "source": [
        "#task-9 -> Selling cost average for packages developed in Pascal\n",
        "import pandas as pd\n",
        "software_df=pd.read_csv('/content/drive/MyDrive/internship/Software.csv')\n",
        "pascal_packages=software_df[software_df['DEVELOPIN']==\"PASCAL\"]\n",
        "avg_scost=pascal_packages[\"SCOST\"].mean()\n",
        "print(avg_scost)"
      ]
    }
  ]
}